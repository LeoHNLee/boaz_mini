{
 "cells": [
  {
   "cell_type": "code",
   "execution_count": 1,
   "metadata": {},
   "outputs": [],
   "source": [
    "import os, sys, warnings, operator, itertools\n",
    "warnings.filterwarnings('ignore')\n",
    "\n",
    "import pandas as pd\n",
    "import numpy as np\n",
    "\n",
    "from sklearn.metrics import mean_squared_error as mse\n",
    "def rmse(pred, true): return np.sqrt(mse(true, pred))"
   ]
  },
  {
   "cell_type": "code",
   "execution_count": 22,
   "metadata": {},
   "outputs": [],
   "source": [
    "read_path = './dataset/origin/'\n",
    "write_path = './dataset/submission/'\n",
    "sample = pd.read_csv(read_path+'sample.csv')\n",
    "train = pd.read_csv(read_path+'train.csv')\n",
    "test = pd.read_csv(read_path+'test_mini.csv')"
   ]
  },
  {
   "cell_type": "markdown",
   "metadata": {},
   "source": [
    "## 타겟과 로스\n",
    "\n",
    "1. 진짜 타겟(12개의 합)을 타겟으로 삼는다 -> lgb로 망함 ㅋ\n",
    "2. 12개를 각각 타겟으로 삼는다 -> lgb로 망함 ㅋ\n",
    "\n",
    "---\n",
    "1. 그냥 2014년도 자료를 제출한다 -> 316.439768872516\n",
    "3. 자살자 수 변화율을 타겟으로 삼는다 -> 200.62501063108937\n",
    "4. 자살자 수 변화율12 -> 196.00703758110848\n",
    "\n",
    "---\n",
    "5. 자살율 변화율을 타겟으로 삼는다\n",
    "6. 자살율 변화율12\n",
    "1. 자살자 수 변화량 (처음에 했던 거에서 조금 진보)\n",
    "1. 자살자 수 변화량 12 \n",
    "1. 자살율 변화량\n",
    "1. 자살율 변화량 12"
   ]
  },
  {
   "cell_type": "markdown",
   "metadata": {},
   "source": [
    "## 그냥 전년도와 같은 수치를 제출했을 때"
   ]
  },
  {
   "cell_type": "code",
   "execution_count": null,
   "metadata": {},
   "outputs": [],
   "source": [
    "testCountries = test['country'].unique().tolist()\n",
    "train_pure = train[train['country'].apply(lambda x: x in testCountries)]\n",
    "train_pure = train_pure[train_pure['year']==2014]\n",
    "train_pure = train_pure.groupby('country')['suicides_no'].agg('sum').reset_index()\n",
    "train_pure.columns = ['country', 'y_pred']\n",
    "train_pure = train_pure.sort_values(by='country', ascending=True)\n",
    "train_pure.to_csv(write_path+'01_same_as_2014.csv', index=False)"
   ]
  },
  {
   "cell_type": "markdown",
   "metadata": {},
   "source": [
    "## 전전년도와 전년도의 자살자 수 변화율을 전년도 타겟에 곱했을 때"
   ]
  },
  {
   "cell_type": "code",
   "execution_count": null,
   "metadata": {},
   "outputs": [],
   "source": [
    "train_pure = train[train['country'].apply(lambda x: x in testCountries)]\n",
    "train_2014 = train_pure[train_pure['year']==2014]\n",
    "train_2013 = train_pure[train_pure['year']==2013]\n",
    "ukraine = train_pure[(train_pure['country']=='Ukraine') & (train_pure['year']==2012)]\n",
    "train_2013 = train_2013.append(ukraine)\n",
    "cols = ['country', 'sex', 'age']\n",
    "train_2014 = train_2014.sort_values(by=cols)\n",
    "train_2013 = train_2013.sort_values(by=cols)\n",
    "train_2013 = train_2013.reset_index(drop=True)\n",
    "train_2014 = train_2014.reset_index(drop=True)"
   ]
  },
  {
   "cell_type": "markdown",
   "metadata": {},
   "source": [
    "### 12개 각각 구하기"
   ]
  },
  {
   "cell_type": "code",
   "execution_count": null,
   "metadata": {},
   "outputs": [],
   "source": [
    "def diff_btw_2013_2014(x):\n",
    "    _2014 = x['suicides_no_2014']\n",
    "    _2013 = x['suicides_no_2013']\n",
    "    try : return (_2014-_2013)/_2013+1\n",
    "    except ZeroDivisionError : return np.nan\n",
    "    \n",
    "def target(x):\n",
    "    rate = x['diff_btw_2013_2014']\n",
    "    if pd.isna(rate): return x['suicides_no_2014']\n",
    "    else : return rate*x['suicides_no_2014']"
   ]
  },
  {
   "cell_type": "code",
   "execution_count": 77,
   "metadata": {},
   "outputs": [],
   "source": [
    "cols = ['country', 'suicides_no', 'year']\n",
    "train_2014 = train_2014[cols]\n",
    "train_2013 = train_2013[cols]\n",
    "train_2014.columns = cols[:-2]+[col+'_2014' for col in cols[1:]]\n",
    "train_2013.columns = cols[:-2]+[col+'_2013' for col in cols[1:]]\n",
    "train_20134 = pd.concat([train_2014, train_2013[[col+'_2013' for col in cols[1:]]]],axis=1)\n",
    "train_20134['diff_btw_2013_2014'] = train_20134.apply(diff_btw_2013_2014, axis=1)\n",
    "train_20134['y_pred'] = train_20134.apply(target, axis=1)\n",
    "train_20134_agg = train_20134.groupby('country')['target'].agg('sum').reset_index()\n",
    "\n",
    "train_20134_agg.to_csv(write_path+'02_diff_btw_2013_2014_cbc.csv', index=False)"
   ]
  },
  {
   "cell_type": "markdown",
   "metadata": {},
   "source": [
    "### 합친채로 구하기"
   ]
  },
  {
   "cell_type": "code",
   "execution_count": 104,
   "metadata": {},
   "outputs": [],
   "source": [
    "cols = ['country', 'suicides_no', 'year']\n",
    "train_2014 = train_2014[cols]\n",
    "train_2013 = train_2013[cols]\n",
    "\n",
    "train_2014_agg = train_2014.groupby('country')['suicides_no'].agg('sum').reset_index()\n",
    "train_2013_agg = train_2013.groupby('country')['suicides_no'].agg('sum').reset_index()\n",
    "train_2014_agg.columns = ['country', 'suicides_no_2014']\n",
    "train_2013_agg.columns = ['country', 'suicides_no_2013']\n",
    "\n",
    "train_2014_agg['suicides_no_2013'] = train_2013_agg['suicides_no_2013']\n",
    "train_2014_agg['diff_btw_2013_2014'] = train_2014_agg.apply(diff_btw_2013_2014, axis=1)\n",
    "train_2014_agg['y_pred'] = train_2014_agg.apply(target, axis=1)\n",
    "\n",
    "train_2014_agg[['country', 'y_pred']].to_csv(write_path+'02_diff_btw_2013_2014_total.csv', index=False)"
   ]
  }
 ],
 "metadata": {
  "kernelspec": {
   "display_name": "Python 3",
   "language": "python",
   "name": "python3"
  },
  "language_info": {
   "codemirror_mode": {
    "name": "ipython",
    "version": 3
   },
   "file_extension": ".py",
   "mimetype": "text/x-python",
   "name": "python",
   "nbconvert_exporter": "python",
   "pygments_lexer": "ipython3",
   "version": "3.6.7"
  },
  "latex_envs": {
   "LaTeX_envs_menu_present": true,
   "autoclose": false,
   "autocomplete": true,
   "bibliofile": "biblio.bib",
   "cite_by": "apalike",
   "current_citInitial": 1,
   "eqLabelWithNumbers": true,
   "eqNumInitial": 1,
   "hotkeys": {
    "equation": "Ctrl-E",
    "itemize": "Ctrl-I"
   },
   "labels_anchors": false,
   "latex_user_defs": false,
   "report_style_numbering": false,
   "user_envs_cfg": false
  }
 },
 "nbformat": 4,
 "nbformat_minor": 2
}
