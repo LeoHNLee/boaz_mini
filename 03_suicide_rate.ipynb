{
 "cells": [
  {
   "cell_type": "code",
   "execution_count": 1,
   "metadata": {},
   "outputs": [],
   "source": [
    "import os, sys, warnings, operator, itertools\n",
    "warnings.filterwarnings('ignore')\n",
    "\n",
    "import pandas as pd\n",
    "import numpy as np\n",
    "\n",
    "from sklearn.metrics import mean_squared_error as mse\n",
    "def rmse(pred, true): return np.sqrt(mse(true, pred))"
   ]
  },
  {
   "cell_type": "code",
   "execution_count": 2,
   "metadata": {},
   "outputs": [],
   "source": [
    "read_path = './dataset/origin/'\n",
    "write_path = './dataset/submission/'\n",
    "sample = pd.read_csv(read_path+'sample.csv')\n",
    "train = pd.read_csv(read_path+'train.csv')\n",
    "test = pd.read_csv(read_path+'test_mini.csv')"
   ]
  },
  {
   "cell_type": "markdown",
   "metadata": {},
   "source": [
    "## 타겟과 로스\n",
    "\n",
    "1. 진짜 타겟(12개의 합)을 타겟으로 삼는다 -> lgb로 망함 ㅋ\n",
    "2. 12개를 각각 타겟으로 삼는다 -> lgb로 망함 ㅋ\n",
    "1. 그냥 2014년도 자료를 제출한다 -> 316.439768872516\n",
    "3. 자살자 수 변화율을 타겟으로 삼는다 -> 200.62501063108937\n",
    "4. 자살자 수 변화율12 -> 196.00703758110848\n",
    "\n",
    "---\n",
    "5. 자살율 변화율을 타겟으로 삼는다 -> 163.0990776087103\n",
    "6. 자살율 변화율12 -> 158.7807797764072\n",
    "1. 자살자 수 변화량 (처음에 했던 거에서 조금 진보) -> 219.307695339681\n",
    "1. 자살자 수 변화량 12 -> 219.307695339681\n",
    "1. 자살율 변화량 -> 자살율이 음수 나와서 fail\n",
    "1. 자살율 변화량 12 -> 자살율이 음수 나와서 fail"
   ]
  },
  {
   "cell_type": "markdown",
   "metadata": {},
   "source": [
    "## 자살율 변화율"
   ]
  },
  {
   "cell_type": "code",
   "execution_count": 31,
   "metadata": {},
   "outputs": [
    {
     "name": "stdout",
     "output_type": "stream",
     "text": [
      "[0 0 0]\n",
      "[0 0 0]\n"
     ]
    }
   ],
   "source": [
    "train['suicides_rate'] = train['suicides_no']/train['population']*1e+10\n",
    "testCountries = test['country'].unique().tolist()\n",
    "train_pure = train[train['country'].apply(lambda x: x in testCountries)]\n",
    "train_2014 = train_pure[train_pure['year']==2014]\n",
    "train_2013 = train_pure[train_pure['year']==2013]\n",
    "ukraine = train_pure[(train_pure['country']=='Ukraine') & (train_pure['year']==2012)]\n",
    "train_2013 = train_2013.append(ukraine)\n",
    "cols = ['country', 'sex', 'age']\n",
    "train_2014 = train_2014.sort_values(by=cols)\n",
    "train_2013 = train_2013.sort_values(by=cols)\n",
    "test_2015 = test.sort_values(by=cols)\n",
    "train_2013 = train_2013.reset_index(drop=True)\n",
    "train_2014 = train_2014.reset_index(drop=True)\n",
    "test_2015 = test_2015.reset_index(drop=True)\n",
    "print(sum(train_2014[cols].values != train_2013[cols].values))\n",
    "print(sum(train_2014[cols].values != test_2015[cols].values))"
   ]
  },
  {
   "cell_type": "markdown",
   "metadata": {},
   "source": [
    "### 12개 각각 구하기"
   ]
  },
  {
   "cell_type": "code",
   "execution_count": 23,
   "metadata": {},
   "outputs": [],
   "source": [
    "cols = ['country', 'suicides_no', 'population', 'suicides_rate', 'year']\n",
    "train_2014 = train_2014[cols]\n",
    "train_2013 = train_2013[cols]\n",
    "train_2014.columns = cols[:-4]+[col+'_2014' for col in cols[1:]]\n",
    "train_2013.columns = cols[:-4]+[col+'_2013' for col in cols[1:]]\n",
    "train_20134 = pd.concat([train_2014, train_2013[[col+'_2013' for col in cols[1:]]]],axis=1)"
   ]
  },
  {
   "cell_type": "code",
   "execution_count": 24,
   "metadata": {},
   "outputs": [],
   "source": [
    "def diff_btw_2013_2014(x):\n",
    "    _2014 = x['suicides_rate_2014']\n",
    "    _2013 = x['suicides_rate_2013']\n",
    "    try : return (_2014-_2013)/_2013+1\n",
    "    except ZeroDivisionError : return np.nan\n",
    "train_20134['diff_btw_2013_2014'] = train_20134.apply(diff_btw_2013_2014, axis=1)"
   ]
  },
  {
   "cell_type": "code",
   "execution_count": 25,
   "metadata": {},
   "outputs": [],
   "source": [
    "def suicides_rate_2015(x):\n",
    "    _2014 = x['suicides_rate_2014']\n",
    "    rate = x['diff_btw_2013_2014']\n",
    "    if pd.isna(rate): return _2014\n",
    "    else : return rate*_2014\n",
    "train_20134['suicides_rate_2015'] = train_20134.apply(suicides_rate_2015, axis=1)"
   ]
  },
  {
   "cell_type": "code",
   "execution_count": 26,
   "metadata": {},
   "outputs": [],
   "source": [
    "test_2015 = pd.concat([test_2015, train_20134[['suicides_rate_2015']]],axis=1)"
   ]
  },
  {
   "cell_type": "code",
   "execution_count": 27,
   "metadata": {},
   "outputs": [],
   "source": [
    "test_2015['y_pred'] = test_2015['suicides_rate_2015']*test_2015['population']/1e+10"
   ]
  },
  {
   "cell_type": "code",
   "execution_count": 28,
   "metadata": {},
   "outputs": [],
   "source": [
    "test_2015_agg = test_2015.groupby('country')['y_pred'].agg('sum').reset_index()"
   ]
  },
  {
   "cell_type": "code",
   "execution_count": 29,
   "metadata": {},
   "outputs": [],
   "source": [
    "test_2015_agg.to_csv(write_path+'03_suicides_rate_diff_btw_2013_2014_cbc.csv', index=False)"
   ]
  },
  {
   "cell_type": "markdown",
   "metadata": {},
   "source": [
    "### 합쳐서 구하기"
   ]
  },
  {
   "cell_type": "code",
   "execution_count": 32,
   "metadata": {
    "scrolled": true
   },
   "outputs": [],
   "source": [
    "cols = ['country', 'suicides_no', 'population', 'suicides_rate', 'year']\n",
    "train_2014 = train_2014[cols]\n",
    "train_2013 = train_2013[cols]\n",
    "\n",
    "aggs = {\n",
    "    'suicides_no': 'sum',\n",
    "    'population': 'sum',\n",
    "}\n",
    "train_2014_agg = train_2014.groupby('country').agg(aggs).reset_index()\n",
    "train_2013_agg = train_2013.groupby('country').agg(aggs).reset_index()\n",
    "test_2015_agg = test_2015.groupby('country')['population'].agg('sum').reset_index()"
   ]
  },
  {
   "cell_type": "code",
   "execution_count": 33,
   "metadata": {},
   "outputs": [],
   "source": [
    "train_2014_agg['suicides_rate_2014'] = train_2014_agg['suicides_no']*1e+10/train_2014_agg['population']\n",
    "train_2013_agg['suicides_rate_2013'] = train_2013_agg['suicides_no']*1e+10/train_2013_agg['population']"
   ]
  },
  {
   "cell_type": "code",
   "execution_count": 35,
   "metadata": {},
   "outputs": [],
   "source": [
    "train_2015 = pd.concat([test_2015_agg, train_2014_agg[['suicides_rate_2014']], train_2013_agg[['suicides_rate_2013']]],axis=1)\n",
    "train_2015['diff_btw_2013_2014'] = train_2015.apply(diff_btw_2013_2014, axis=1)\n",
    "train_2015['suicides_rate_2015'] = train_2015.apply(suicides_rate_2015, axis=1)\n",
    "train_2015['y_pred'] = train_2015['suicides_rate_2015']*train_2015['population']/1e+10"
   ]
  },
  {
   "cell_type": "code",
   "execution_count": 36,
   "metadata": {
    "scrolled": true
   },
   "outputs": [],
   "source": [
    "train_2015.to_csv(write_path+'03_suicides_rate_diff_btw_2013_2014_total.csv', index=False)"
   ]
  },
  {
   "cell_type": "markdown",
   "metadata": {},
   "source": [
    "## 자살자 수 변화량"
   ]
  },
  {
   "cell_type": "code",
   "execution_count": 42,
   "metadata": {},
   "outputs": [
    {
     "name": "stdout",
     "output_type": "stream",
     "text": [
      "[0 0 0]\n",
      "[0 0 0]\n"
     ]
    }
   ],
   "source": [
    "testCountries = test['country'].unique().tolist()\n",
    "train_pure = train[train['country'].apply(lambda x: x in testCountries)]\n",
    "train_2014 = train_pure[train_pure['year']==2014]\n",
    "train_2013 = train_pure[train_pure['year']==2013]\n",
    "ukraine = train_pure[(train_pure['country']=='Ukraine') & (train_pure['year']==2012)]\n",
    "train_2013 = train_2013.append(ukraine)\n",
    "cols = ['country', 'sex', 'age']\n",
    "train_2014 = train_2014.sort_values(by=cols)\n",
    "train_2013 = train_2013.sort_values(by=cols)\n",
    "test_2015 = test.sort_values(by=cols)\n",
    "train_2013 = train_2013.reset_index(drop=True)\n",
    "train_2014 = train_2014.reset_index(drop=True)\n",
    "test_2015 = test_2015.reset_index(drop=True)\n",
    "print(sum(train_2014[cols].values != train_2013[cols].values))\n",
    "print(sum(train_2014[cols].values != test_2015[cols].values))"
   ]
  },
  {
   "cell_type": "markdown",
   "metadata": {},
   "source": [
    "### 12개 각각 구하기"
   ]
  },
  {
   "cell_type": "code",
   "execution_count": 11,
   "metadata": {},
   "outputs": [
    {
     "name": "stdout",
     "output_type": "stream",
     "text": [
      "(744, 13)\n"
     ]
    }
   ],
   "source": [
    "cols = ['country', 'suicides_no',]\n",
    "train_2014 = train_2014[cols]\n",
    "train_2013 = train_2013[cols]\n",
    "train_2014.columns = cols[:-1]+[col+'_2014' for col in cols[1:]]\n",
    "train_2013.columns = cols[:-1]+[col+'_2013' for col in cols[1:]]\n",
    "train_2015 = pd.concat([test_2015, train_2014[[col+'_2014' for col in cols[1:]]], train_2013[[col+'_2013' for col in cols[1:]]]],axis=1)\n",
    "print(train_2015.shape)"
   ]
  },
  {
   "cell_type": "code",
   "execution_count": 13,
   "metadata": {},
   "outputs": [],
   "source": [
    "train_2015['suicides_no_diff_btw_2013_2014'] = train_2015['suicides_no_2014']-train_2015['suicides_no_2013']\n",
    "train_2015['y_pred'] = train_2015['suicides_no_2014']+train_2015['suicides_no_diff_btw_2013_2014']\n",
    "train_2015_agg = train_2015.groupby('country')['y_pred'].agg('sum').reset_index()"
   ]
  },
  {
   "cell_type": "code",
   "execution_count": 15,
   "metadata": {},
   "outputs": [],
   "source": [
    "train_2015_agg.to_csv(write_path+'03_suicides_no_amount_diff_cbc.csv', index=False)"
   ]
  },
  {
   "cell_type": "markdown",
   "metadata": {},
   "source": [
    "### 12개 합쳐서 구하기"
   ]
  },
  {
   "cell_type": "code",
   "execution_count": 43,
   "metadata": {},
   "outputs": [],
   "source": [
    "train_2014_agg = train_2014.groupby('country')['suicides_no'].agg('sum').reset_index()\n",
    "train_2013_agg = train_2013.groupby('country')['suicides_no'].agg('sum').reset_index()\n",
    "test_2015_agg = test_2015.groupby('country')['sex'].agg('count').reset_index()\n",
    "cols = ['country', 'suicides_no',]\n",
    "train_2014_agg.columns = cols[:-1]+[col+'_2014' for col in cols[1:]]\n",
    "train_2013_agg.columns = cols[:-1]+[col+'_2013' for col in cols[1:]]\n",
    "train_2015 = pd.concat([test_2015_agg, train_2014_agg[[col+'_2014' for col in cols[1:]]], train_2013_agg[[col+'_2013' for col in cols[1:]]]],axis=1)"
   ]
  },
  {
   "cell_type": "code",
   "execution_count": 44,
   "metadata": {},
   "outputs": [],
   "source": [
    "train_2015['diff_btw_2013_2014'] = train_2015['suicides_no_2014'] - train_2015['suicides_no_2013']\n",
    "train_2015['y_pred'] = train_2015['suicides_no_2014']+train_2015['diff_btw_2013_2014']\n",
    "train_2015.to_csv(write_path+'03_suicides_no_amount_diff_total.csv', index=False)"
   ]
  },
  {
   "cell_type": "code",
   "execution_count": 47,
   "metadata": {
    "scrolled": true
   },
   "outputs": [
    {
     "data": {
      "text/plain": [
       "62"
      ]
     },
     "execution_count": 47,
     "metadata": {},
     "output_type": "execute_result"
    }
   ],
   "source": [
    "sum(train_2015['y_pred']==train_2015_agg['y_pred'])"
   ]
  },
  {
   "cell_type": "markdown",
   "metadata": {},
   "source": [
    "## 결론 : cbc>total, 자살율 변화율 >> 자살자 수 변화율 > 자살자 수 변화량 >>> base 316.44"
   ]
  }
 ],
 "metadata": {
  "kernelspec": {
   "display_name": "Python 3",
   "language": "python",
   "name": "python3"
  },
  "language_info": {
   "codemirror_mode": {
    "name": "ipython",
    "version": 3
   },
   "file_extension": ".py",
   "mimetype": "text/x-python",
   "name": "python",
   "nbconvert_exporter": "python",
   "pygments_lexer": "ipython3",
   "version": "3.6.7"
  },
  "latex_envs": {
   "LaTeX_envs_menu_present": true,
   "autoclose": false,
   "autocomplete": true,
   "bibliofile": "biblio.bib",
   "cite_by": "apalike",
   "current_citInitial": 1,
   "eqLabelWithNumbers": true,
   "eqNumInitial": 1,
   "hotkeys": {
    "equation": "Ctrl-E",
    "itemize": "Ctrl-I"
   },
   "labels_anchors": false,
   "latex_user_defs": false,
   "report_style_numbering": false,
   "user_envs_cfg": false
  }
 },
 "nbformat": 4,
 "nbformat_minor": 2
}
